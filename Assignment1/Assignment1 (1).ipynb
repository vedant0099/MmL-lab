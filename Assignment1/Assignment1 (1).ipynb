{
 "cells": [
  {
   "cell_type": "code",
   "execution_count": 3,
   "id": "47e1d919-d39f-4ba1-ac2b-29eb2c6bc21f",
   "metadata": {},
   "outputs": [
    {
     "name": "stdout",
     "output_type": "stream",
     "text": [
      "Defaulting to user installation because normal site-packages is not writeable\n",
      "Requirement already satisfied: numpy in c:\\users\\apurva\\appdata\\roaming\\python\\python312\\site-packages (2.2.1)\n"
     ]
    }
   ],
   "source": [
    "!pip install numpy"
   ]
  },
  {
   "cell_type": "code",
   "execution_count": 5,
   "id": "b22e306b-07d7-41b1-a836-42a562546df1",
   "metadata": {},
   "outputs": [
    {
     "name": "stdout",
     "output_type": "stream",
     "text": [
      "Defaulting to user installation because normal site-packages is not writeable\n",
      "Requirement already satisfied: pandas in c:\\users\\apurva\\appdata\\roaming\\python\\python312\\site-packages (2.2.3)\n",
      "Requirement already satisfied: numpy>=1.26.0 in c:\\users\\apurva\\appdata\\roaming\\python\\python312\\site-packages (from pandas) (2.2.1)\n",
      "Requirement already satisfied: python-dateutil>=2.8.2 in c:\\users\\apurva\\appdata\\roaming\\python\\python312\\site-packages (from pandas) (2.9.0.post0)\n",
      "Requirement already satisfied: pytz>=2020.1 in c:\\users\\apurva\\appdata\\roaming\\python\\python312\\site-packages (from pandas) (2024.2)\n",
      "Requirement already satisfied: tzdata>=2022.7 in c:\\users\\apurva\\appdata\\roaming\\python\\python312\\site-packages (from pandas) (2024.2)\n",
      "Requirement already satisfied: six>=1.5 in c:\\users\\apurva\\appdata\\roaming\\python\\python312\\site-packages (from python-dateutil>=2.8.2->pandas) (1.17.0)\n"
     ]
    }
   ],
   "source": [
    "!pip install pandas"
   ]
  },
  {
   "cell_type": "code",
   "execution_count": 7,
   "id": "430b0ac4-7186-4e4f-a46e-ecaef522b32b",
   "metadata": {},
   "outputs": [
    {
     "name": "stdout",
     "output_type": "stream",
     "text": [
      "Defaulting to user installation because normal site-packages is not writeable\n",
      "Requirement already satisfied: matplotlib in c:\\users\\apurva\\appdata\\roaming\\python\\python312\\site-packages (3.10.0)\n",
      "Requirement already satisfied: contourpy>=1.0.1 in c:\\users\\apurva\\appdata\\roaming\\python\\python312\\site-packages (from matplotlib) (1.3.1)\n",
      "Requirement already satisfied: cycler>=0.10 in c:\\users\\apurva\\appdata\\roaming\\python\\python312\\site-packages (from matplotlib) (0.12.1)\n",
      "Requirement already satisfied: fonttools>=4.22.0 in c:\\users\\apurva\\appdata\\roaming\\python\\python312\\site-packages (from matplotlib) (4.55.3)\n",
      "Requirement already satisfied: kiwisolver>=1.3.1 in c:\\users\\apurva\\appdata\\roaming\\python\\python312\\site-packages (from matplotlib) (1.4.8)\n",
      "Requirement already satisfied: numpy>=1.23 in c:\\users\\apurva\\appdata\\roaming\\python\\python312\\site-packages (from matplotlib) (2.2.1)\n",
      "Requirement already satisfied: packaging>=20.0 in c:\\users\\apurva\\appdata\\roaming\\python\\python312\\site-packages (from matplotlib) (24.2)\n",
      "Requirement already satisfied: pillow>=8 in c:\\users\\apurva\\appdata\\roaming\\python\\python312\\site-packages (from matplotlib) (11.1.0)\n",
      "Requirement already satisfied: pyparsing>=2.3.1 in c:\\users\\apurva\\appdata\\roaming\\python\\python312\\site-packages (from matplotlib) (3.2.1)\n",
      "Requirement already satisfied: python-dateutil>=2.7 in c:\\users\\apurva\\appdata\\roaming\\python\\python312\\site-packages (from matplotlib) (2.9.0.post0)\n",
      "Requirement already satisfied: six>=1.5 in c:\\users\\apurva\\appdata\\roaming\\python\\python312\\site-packages (from python-dateutil>=2.7->matplotlib) (1.17.0)\n"
     ]
    }
   ],
   "source": [
    "!pip install matplotlib"
   ]
  },
  {
   "cell_type": "code",
   "execution_count": 11,
   "id": "58ce5772-188f-425b-8ecc-619ddb1b3376",
   "metadata": {},
   "outputs": [],
   "source": [
    "import numpy as np\n",
    "import pandas as pd\n",
    "import matplotlib.pyplot as plt"
   ]
  },
  {
   "cell_type": "code",
   "execution_count": 13,
   "id": "bf53016c-302e-497f-a7b2-75b37e177f14",
   "metadata": {},
   "outputs": [],
   "source": [
    "df=pd.read_csv(\"admission.csv\")"
   ]
  },
  {
   "cell_type": "code",
   "execution_count": 15,
   "id": "1a7b2202-1cac-475c-bf95-c48169032e5d",
   "metadata": {},
   "outputs": [
    {
     "name": "stdout",
     "output_type": "stream",
     "text": [
      "shape of data: (500, 9)\n"
     ]
    }
   ],
   "source": [
    "print(\"shape of data:\",df.shape)"
   ]
  },
  {
   "cell_type": "code",
   "execution_count": 17,
   "id": "aee97f28-4b1d-48d1-853c-29380153f178",
   "metadata": {},
   "outputs": [
    {
     "name": "stdout",
     "output_type": "stream",
     "text": [
      "/n missing values :\n",
      "Serial No.           0\n",
      "GRE Score            0\n",
      "TOEFL Score          0\n",
      "University Rating    0\n",
      "SOP                  0\n",
      "LOR                  0\n",
      "CGPA                 0\n",
      "Research             0\n",
      "Chance of Admit      0\n",
      "dtype: int64\n"
     ]
    }
   ],
   "source": [
    "print(\"/n missing values :\")\n",
    "print(df.isnull().sum())"
   ]
  },
  {
   "cell_type": "code",
   "execution_count": 19,
   "id": "0f5a2f25-0d44-4faf-bf25-a10c610c0b3c",
   "metadata": {},
   "outputs": [
    {
     "name": "stdout",
     "output_type": "stream",
     "text": [
      "/n data type of each column\n",
      "Serial No.             int64\n",
      "GRE Score              int64\n",
      "TOEFL Score            int64\n",
      "University Rating      int64\n",
      "SOP                  float64\n",
      "LOR                  float64\n",
      "CGPA                 float64\n",
      "Research               int64\n",
      "Chance of Admit      float64\n",
      "dtype: object\n"
     ]
    }
   ],
   "source": [
    "print(\"/n data type of each column\")\n",
    "print(df.dtypes)"
   ]
  },
  {
   "cell_type": "code",
   "execution_count": 21,
   "id": "39892d56-3910-44b2-ac3a-88205b4c6f68",
   "metadata": {},
   "outputs": [
    {
     "name": "stdout",
     "output_type": "stream",
     "text": [
      "\n",
      " Number of zeroes:\n",
      "Serial No.             0\n",
      "GRE Score              0\n",
      "TOEFL Score            0\n",
      "University Rating      0\n",
      "SOP                    0\n",
      "LOR                    0\n",
      "CGPA                   0\n",
      "Research             220\n",
      "Chance of Admit        0\n",
      "dtype: int64\n"
     ]
    }
   ],
   "source": [
    "print(\"\\n Number of zeroes:\")\n",
    "print((df==0).sum())"
   ]
  },
  {
   "cell_type": "code",
   "execution_count": 23,
   "id": "9b5e7060-467e-4de6-8f8c-ea177da2854a",
   "metadata": {},
   "outputs": [
    {
     "name": "stdout",
     "output_type": "stream",
     "text": [
      "     SOP  Research\n",
      "0    4.5         1\n",
      "1    4.0         1\n",
      "2    3.0         1\n",
      "3    3.5         1\n",
      "4    2.0         0\n",
      "..   ...       ...\n",
      "495  4.5         1\n",
      "496  5.0         1\n",
      "497  4.5         1\n",
      "498  4.0         0\n",
      "499  4.5         0\n",
      "\n",
      "[500 rows x 2 columns]\n"
     ]
    }
   ],
   "source": [
    "selected_cols=df[['SOP','Research']]\n",
    "print(selected_cols)"
   ]
  },
  {
   "cell_type": "code",
   "execution_count": 29,
   "id": "8defd694-d7ec-44ad-b439-c83875129db9",
   "metadata": {},
   "outputs": [
    {
     "name": "stdout",
     "output_type": "stream",
     "text": [
      "     Serial No.  GRE Score  TOEFL Score  University Rating  SOP  LOR  CGPA  \\\n",
      "0             1        337          118                  4  4.5  4.5  9.65   \n",
      "1             2        324          107                  4  4.0  4.5  8.87   \n",
      "3             4        322          110                  3  3.5  2.5  8.67   \n",
      "5             6        330          115                  5  4.5  3.0  9.34   \n",
      "9            10        323          108                  3  3.5  3.0  8.60   \n",
      "..          ...        ...          ...                ...  ...  ...   ...   \n",
      "495         496        332          108                  5  4.5  4.0  9.02   \n",
      "496         497        337          117                  5  5.0  5.0  9.87   \n",
      "497         498        330          120                  5  4.5  5.0  9.56   \n",
      "498         499        312          103                  4  4.0  5.0  8.43   \n",
      "499         500        327          113                  4  4.5  4.5  9.04   \n",
      "\n",
      "     Research  Chance of Admit  \n",
      "0           1             0.92  \n",
      "1           1             0.76  \n",
      "3           1             0.80  \n",
      "5           1             0.90  \n",
      "9           0             0.45  \n",
      "..        ...              ...  \n",
      "495         1             0.87  \n",
      "496         1             0.96  \n",
      "497         1             0.93  \n",
      "498         0             0.73  \n",
      "499         0             0.84  \n",
      "\n",
      "[282 rows x 9 columns]\n"
     ]
    }
   ],
   "source": [
    "filtered_rows=df[df['SOP']>3]\n",
    "print(filtered_rows)"
   ]
  },
  {
   "cell_type": "code",
   "execution_count": 33,
   "id": "730bd3cc-6b9d-4642-a629-b38add8d2411",
   "metadata": {},
   "outputs": [
    {
     "name": "stdout",
     "output_type": "stream",
     "text": [
      "     Serial No.  GRE Score  TOEFL Score  University Rating  SOP  LOR  CGPA  \\\n",
      "58           59        300           99                  1  3.0  2.0  6.80   \n",
      "28           29        295           93                  1  2.0  2.0  7.20   \n",
      "464         465        298           97                  2  2.0  3.0  7.21   \n",
      "436         437        310          110                  1  1.5  4.0  7.23   \n",
      "348         349        302           99                  1  2.0  2.0  7.25   \n",
      "..          ...        ...          ...                ...  ...  ...   ...   \n",
      "425         426        323          111                  5  4.0  5.0  9.86   \n",
      "496         497        337          117                  5  5.0  5.0  9.87   \n",
      "203         204        334          120                  5  4.0  5.0  9.87   \n",
      "202         203        340          120                  5  4.5  4.5  9.91   \n",
      "143         144        340          120                  4  4.5  4.0  9.92   \n",
      "\n",
      "     Research  Chance of Admit  \n",
      "58          1             0.36  \n",
      "28          0             0.46  \n",
      "464         0             0.45  \n",
      "436         1             0.58  \n",
      "348         0             0.57  \n",
      "..        ...              ...  \n",
      "425         1             0.92  \n",
      "496         1             0.96  \n",
      "203         1             0.97  \n",
      "202         1             0.97  \n",
      "143         1             0.97  \n",
      "\n",
      "[500 rows x 9 columns]\n"
     ]
    }
   ],
   "source": [
    "sorted_data = df.sort_values(by='CGPA', ascending=True)\n",
    "print(sorted_data)"
   ]
  },
  {
   "cell_type": "code",
   "execution_count": 35,
   "id": "5d656bba-c1b2-4260-b2ce-cb2d57932741",
   "metadata": {},
   "outputs": [
    {
     "name": "stdout",
     "output_type": "stream",
     "text": [
      "       Serial No.   GRE Score  TOEFL Score  University Rating         SOP  \\\n",
      "count  500.000000  500.000000   500.000000         500.000000  500.000000   \n",
      "mean   250.500000  316.472000   107.192000           3.114000    3.374000   \n",
      "std    144.481833   11.295148     6.081868           1.143512    0.991004   \n",
      "min      1.000000  290.000000    92.000000           1.000000    1.000000   \n",
      "25%    125.750000  308.000000   103.000000           2.000000    2.500000   \n",
      "50%    250.500000  317.000000   107.000000           3.000000    3.500000   \n",
      "75%    375.250000  325.000000   112.000000           4.000000    4.000000   \n",
      "max    500.000000  340.000000   120.000000           5.000000    5.000000   \n",
      "\n",
      "             LOR        CGPA    Research  Chance of Admit  \n",
      "count  500.00000  500.000000  500.000000        500.00000  \n",
      "mean     3.48400    8.576440    0.560000          0.72174  \n",
      "std      0.92545    0.604813    0.496884          0.14114  \n",
      "min      1.00000    6.800000    0.000000          0.34000  \n",
      "25%      3.00000    8.127500    0.000000          0.63000  \n",
      "50%      3.50000    8.560000    1.000000          0.72000  \n",
      "75%      4.00000    9.040000    1.000000          0.82000  \n",
      "max      5.00000    9.920000    1.000000          0.97000  \n"
     ]
    }
   ],
   "source": [
    "print(df.describe())"
   ]
  },
  {
   "cell_type": "code",
   "execution_count": 37,
   "id": "fa05ddcc-9600-4b55-ab4a-5bad8696683f",
   "metadata": {},
   "outputs": [
    {
     "name": "stdout",
     "output_type": "stream",
     "text": [
      "\n",
      " unique value count in each column\n",
      "Serial No.           500\n",
      "GRE Score             49\n",
      "TOEFL Score           29\n",
      "University Rating      5\n",
      "SOP                    9\n",
      "LOR                    9\n",
      "CGPA                 184\n",
      "Research               2\n",
      "Chance of Admit       61\n",
      "dtype: int64\n"
     ]
    }
   ],
   "source": [
    "print(\"\\n unique value count in each column\")\n",
    "print(df.nunique())"
   ]
  },
  {
   "cell_type": "code",
   "execution_count": 53,
   "id": "0ef65362-50a1-4999-b5e4-d4aea01f0c33",
   "metadata": {},
   "outputs": [],
   "source": [
    "df['datecolumn']=pd.to_datetime(df['SOP'])"
   ]
  },
  {
   "cell_type": "code",
   "execution_count": 55,
   "id": "0e12fa62-5b38-450d-b555-3bdf56f568a1",
   "metadata": {},
   "outputs": [
    {
     "name": "stdout",
     "output_type": "stream",
     "text": [
      "\n",
      " Updated data types after conversion\n",
      "Serial No.                    int64\n",
      "GRE Score                     int64\n",
      "TOEFL Score                   int64\n",
      "University Rating             int64\n",
      "SOP                         float64\n",
      "LOR                         float64\n",
      "CGPA                        float64\n",
      "Research                      int64\n",
      "Chance of Admit             float64\n",
      "datecolumn           datetime64[ns]\n",
      "dtype: object\n"
     ]
    }
   ],
   "source": [
    "print(\"\\n Updated data types after conversion\")\n",
    "print(df.dtypes)"
   ]
  }
 ],
 "metadata": {
  "kernelspec": {
   "display_name": "Python 3 (ipykernel)",
   "language": "python",
   "name": "python3"
  },
  "language_info": {
   "codemirror_mode": {
    "name": "ipython",
    "version": 3
   },
   "file_extension": ".py",
   "mimetype": "text/x-python",
   "name": "python",
   "nbconvert_exporter": "python",
   "pygments_lexer": "ipython3",
   "version": "3.12.7"
  }
 },
 "nbformat": 4,
 "nbformat_minor": 5
}
